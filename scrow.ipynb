#!/bin/bash

# Set the script name
SCRIPT_NAME="my_script.sh"

# Define the main function
main() {
  # Print a greeting message
  echo "Hey World!"

  # Ask for user input and store it in a variable
  read -p "Enter your name: " username

  # Greet the user by name
  echo "Hey, $username!"

  # Calculate the area of a rectangle (assuming length and width are provided)
  length=10
  width=5
  area=$(echo "scale=2; $length * $width" | bc -l)

  # Print the calculated area
  echo "The area is: $area"
}

# Run the main function and return its exit status
exit $?
