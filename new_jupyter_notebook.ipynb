# Cell 1: Markdown Template
# Cell 2: Python Code Template
# Cell 3: Shell Code Template
